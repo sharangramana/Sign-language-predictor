{
  "nbformat": 4,
  "nbformat_minor": 0,
  "metadata": {
    "colab": {
      "name": "sign_language_recognition2",
      "version": "0.3.2",
      "provenance": [],
      "collapsed_sections": []
    },
    "kernelspec": {
      "name": "python3",
      "display_name": "Python 3"
    }
  },
  "cells": [
    {
      "cell_type": "markdown",
      "metadata": {
        "id": "75o2z0gDLYy6",
        "colab_type": "text"
      },
      "source": [
        "# **MNIST SIGN LANGUAGE PREDICTION**\n",
        "\n",
        "Sign Language image Classification is a drop-In replacement for MNIST for Hand Gesture Recognition Tasks.The dataset format is patterned to match closely with the classic MNIST. Each training and test case represents a label (0–25) as a one-to-one map for each alphabetic letter A-Z (and no cases for 9=J or 25=Z because of gesture motions). The training data (27,455 cases) and test data (7172 cases) are approximately half the size of the standard MNIST but otherwise similar with a header row of the label, pixel1, pixel2….pixel784 which represent a single 28×28 pixel image with grayscale values between 0–255.\n",
        "\n",
        "\n",
        "\n"
      ]
    },
    {
      "cell_type": "markdown",
      "metadata": {
        "id": "M4Ljda-vMxhT",
        "colab_type": "text"
      },
      "source": [
        "***Importing the libraries***"
      ]
    },
    {
      "cell_type": "code",
      "metadata": {
        "id": "dM5IMcGBBZtn",
        "colab_type": "code",
        "outputId": "38ec9941-2b29-40f6-da96-bdc6ce6f5635",
        "colab": {
          "base_uri": "https://localhost:8080/",
          "height": 129
        }
      },
      "source": [
        "import numpy as np\n",
        "import pandas as pd\n",
        "import os\n",
        "from random import shuffle\n",
        "#from tqdm import tqdm\n",
        "from google.colab import drive\n",
        "drive.mount(\"/content/drive\")\n",
        "\n"
      ],
      "execution_count": 0,
      "outputs": [
        {
          "output_type": "stream",
          "text": [
            "Go to this URL in a browser: https://accounts.google.com/o/oauth2/auth?client_id=947318989803-6bn6qk8qdgf4n4g3pfee6491hc0brc4i.apps.googleusercontent.com&redirect_uri=urn%3Aietf%3Awg%3Aoauth%3A2.0%3Aoob&scope=email%20https%3A%2F%2Fwww.googleapis.com%2Fauth%2Fdocs.test%20https%3A%2F%2Fwww.googleapis.com%2Fauth%2Fdrive%20https%3A%2F%2Fwww.googleapis.com%2Fauth%2Fdrive.photos.readonly%20https%3A%2F%2Fwww.googleapis.com%2Fauth%2Fpeopleapi.readonly&response_type=code\n",
            "\n",
            "Enter your authorization code:\n",
            "··········\n",
            "Mounted at /content/drive\n"
          ],
          "name": "stdout"
        }
      ]
    },
    {
      "cell_type": "markdown",
      "metadata": {
        "id": "UunEh47rNCVz",
        "colab_type": "text"
      },
      "source": [
        "**`Splitting the data set into train,test and validation data`**"
      ]
    },
    {
      "cell_type": "code",
      "metadata": {
        "id": "kWxxRMdBDHqa",
        "colab_type": "code",
        "colab": {}
      },
      "source": [
        "import keras\n",
        "from keras.utils import to_categorical\n",
        "from sklearn.model_selection import train_test_split\n",
        "from tqdm import tqdm\n",
        "train_data = pd.read_csv(\"/content/drive/My Drive/Data/sign_mnist/sign_mnist_train.csv\")\n",
        "test_data = pd.read_csv(\"/content/drive/My Drive/Data/sign_mnist/sign_mnist_test.csv\")\n",
        "#shuffle(train_data)\n"
      ],
      "execution_count": 0,
      "outputs": []
    },
    {
      "cell_type": "code",
      "metadata": {
        "id": "W1EpqBtM9mkT",
        "colab_type": "code",
        "outputId": "ba6ea130-53fd-4a64-ab9d-ad14a7421927",
        "colab": {
          "base_uri": "https://localhost:8080/",
          "height": 549
        }
      },
      "source": [
        "X = np.array(train_data.iloc[:,1:])\n",
        "\n",
        "y = train_data.iloc[:,0]\n",
        "#print(y[i])\n",
        "n = \"A B C D E F G H I J K L M N O P Q R S T U V W X Y Z\"\n",
        "n = n.split()\n",
        "#print(n)\n",
        "yval = dict((i,n) for i,n in enumerate(n))\n",
        "print(yval)\n",
        "for i in tqdm(range(len(y))):\n",
        "    a = y[i]\n",
        "    \n",
        "    #print(y[i])\n",
        "    y[i] =yval[a]\n",
        "y = to_categorical(y)\n",
        "\n"
      ],
      "execution_count": 0,
      "outputs": [
        {
          "output_type": "stream",
          "text": [
            "  0%|          | 0/27455 [00:00<?, ?it/s]/usr/local/lib/python3.6/dist-packages/ipykernel_launcher.py:14: SettingWithCopyWarning: \n",
            "A value is trying to be set on a copy of a slice from a DataFrame\n",
            "\n",
            "See the caveats in the documentation: http://pandas.pydata.org/pandas-docs/stable/indexing.html#indexing-view-versus-copy\n",
            "  \n",
            "  0%|          | 2/27455 [00:00<42:05, 10.87it/s]"
          ],
          "name": "stderr"
        },
        {
          "output_type": "stream",
          "text": [
            "{0: 'A', 1: 'B', 2: 'C', 3: 'D', 4: 'E', 5: 'F', 6: 'G', 7: 'H', 8: 'I', 9: 'J', 10: 'K', 11: 'L', 12: 'M', 13: 'N', 14: 'O', 15: 'P', 16: 'Q', 17: 'R', 18: 'S', 19: 'T', 20: 'U', 21: 'V', 22: 'W', 23: 'X', 24: 'Y', 25: 'Z'}\n"
          ],
          "name": "stdout"
        },
        {
          "output_type": "stream",
          "text": [
            " 16%|█▋        | 4498/27455 [08:35<45:39,  8.38it/s]"
          ],
          "name": "stderr"
        },
        {
          "output_type": "error",
          "ename": "KeyboardInterrupt",
          "evalue": "ignored",
          "traceback": [
            "\u001b[0;31m---------------------------------------------------------------------------\u001b[0m",
            "\u001b[0;31mKeyboardInterrupt\u001b[0m                         Traceback (most recent call last)",
            "\u001b[0;32m<ipython-input-50-7425ea9ce87b>\u001b[0m in \u001b[0;36m<module>\u001b[0;34m()\u001b[0m\n\u001b[1;32m     12\u001b[0m \u001b[0;34m\u001b[0m\u001b[0m\n\u001b[1;32m     13\u001b[0m     \u001b[0;31m#print(y[i])\u001b[0m\u001b[0;34m\u001b[0m\u001b[0;34m\u001b[0m\u001b[0;34m\u001b[0m\u001b[0m\n\u001b[0;32m---> 14\u001b[0;31m     \u001b[0my\u001b[0m\u001b[0;34m[\u001b[0m\u001b[0mi\u001b[0m\u001b[0;34m]\u001b[0m \u001b[0;34m=\u001b[0m\u001b[0myval\u001b[0m\u001b[0;34m[\u001b[0m\u001b[0ma\u001b[0m\u001b[0;34m]\u001b[0m\u001b[0;34m\u001b[0m\u001b[0;34m\u001b[0m\u001b[0m\n\u001b[0m\u001b[1;32m     15\u001b[0m \u001b[0my\u001b[0m \u001b[0;34m=\u001b[0m \u001b[0mto_categorical\u001b[0m\u001b[0;34m(\u001b[0m\u001b[0my\u001b[0m\u001b[0;34m)\u001b[0m\u001b[0;34m\u001b[0m\u001b[0;34m\u001b[0m\u001b[0m\n\u001b[1;32m     16\u001b[0m \u001b[0;34m\u001b[0m\u001b[0m\n",
            "\u001b[0;32m/usr/local/lib/python3.6/dist-packages/pandas/core/series.py\u001b[0m in \u001b[0;36m__setitem__\u001b[0;34m(self, key, value)\u001b[0m\n\u001b[1;32m   1036\u001b[0m \u001b[0;34m\u001b[0m\u001b[0m\n\u001b[1;32m   1037\u001b[0m         \u001b[0;31m# do the setitem\u001b[0m\u001b[0;34m\u001b[0m\u001b[0;34m\u001b[0m\u001b[0;34m\u001b[0m\u001b[0m\n\u001b[0;32m-> 1038\u001b[0;31m         \u001b[0mcacher_needs_updating\u001b[0m \u001b[0;34m=\u001b[0m \u001b[0mself\u001b[0m\u001b[0;34m.\u001b[0m\u001b[0m_check_is_chained_assignment_possible\u001b[0m\u001b[0;34m(\u001b[0m\u001b[0;34m)\u001b[0m\u001b[0;34m\u001b[0m\u001b[0;34m\u001b[0m\u001b[0m\n\u001b[0m\u001b[1;32m   1039\u001b[0m         \u001b[0msetitem\u001b[0m\u001b[0;34m(\u001b[0m\u001b[0mkey\u001b[0m\u001b[0;34m,\u001b[0m \u001b[0mvalue\u001b[0m\u001b[0;34m)\u001b[0m\u001b[0;34m\u001b[0m\u001b[0;34m\u001b[0m\u001b[0m\n\u001b[1;32m   1040\u001b[0m         \u001b[0;32mif\u001b[0m \u001b[0mcacher_needs_updating\u001b[0m\u001b[0;34m:\u001b[0m\u001b[0;34m\u001b[0m\u001b[0;34m\u001b[0m\u001b[0m\n",
            "\u001b[0;32m/usr/local/lib/python3.6/dist-packages/pandas/core/generic.py\u001b[0m in \u001b[0;36m_check_is_chained_assignment_possible\u001b[0;34m(self)\u001b[0m\n\u001b[1;32m   3197\u001b[0m             \u001b[0;32mif\u001b[0m \u001b[0mref\u001b[0m \u001b[0;32mis\u001b[0m \u001b[0;32mnot\u001b[0m \u001b[0;32mNone\u001b[0m \u001b[0;32mand\u001b[0m \u001b[0mref\u001b[0m\u001b[0;34m.\u001b[0m\u001b[0m_is_mixed_type\u001b[0m\u001b[0;34m:\u001b[0m\u001b[0;34m\u001b[0m\u001b[0;34m\u001b[0m\u001b[0m\n\u001b[1;32m   3198\u001b[0m                 self._check_setitem_copy(stacklevel=4, t='referant',\n\u001b[0;32m-> 3199\u001b[0;31m                                          force=True)\n\u001b[0m\u001b[1;32m   3200\u001b[0m             \u001b[0;32mreturn\u001b[0m \u001b[0;32mTrue\u001b[0m\u001b[0;34m\u001b[0m\u001b[0;34m\u001b[0m\u001b[0m\n\u001b[1;32m   3201\u001b[0m         \u001b[0;32melif\u001b[0m \u001b[0mself\u001b[0m\u001b[0;34m.\u001b[0m\u001b[0m_is_copy\u001b[0m\u001b[0;34m:\u001b[0m\u001b[0;34m\u001b[0m\u001b[0;34m\u001b[0m\u001b[0m\n",
            "\u001b[0;32m/usr/local/lib/python3.6/dist-packages/pandas/core/generic.py\u001b[0m in \u001b[0;36m_check_setitem_copy\u001b[0;34m(self, stacklevel, t, force)\u001b[0m\n\u001b[1;32m   3243\u001b[0m             \u001b[0;31m# the copy weakref\u001b[0m\u001b[0;34m\u001b[0m\u001b[0;34m\u001b[0m\u001b[0;34m\u001b[0m\u001b[0m\n\u001b[1;32m   3244\u001b[0m             \u001b[0;32mtry\u001b[0m\u001b[0;34m:\u001b[0m\u001b[0;34m\u001b[0m\u001b[0;34m\u001b[0m\u001b[0m\n\u001b[0;32m-> 3245\u001b[0;31m                 \u001b[0mgc\u001b[0m\u001b[0;34m.\u001b[0m\u001b[0mcollect\u001b[0m\u001b[0;34m(\u001b[0m\u001b[0;36m2\u001b[0m\u001b[0;34m)\u001b[0m\u001b[0;34m\u001b[0m\u001b[0;34m\u001b[0m\u001b[0m\n\u001b[0m\u001b[1;32m   3246\u001b[0m                 \u001b[0;32mif\u001b[0m \u001b[0;32mnot\u001b[0m \u001b[0mgc\u001b[0m\u001b[0;34m.\u001b[0m\u001b[0mget_referents\u001b[0m\u001b[0;34m(\u001b[0m\u001b[0mself\u001b[0m\u001b[0;34m.\u001b[0m\u001b[0m_is_copy\u001b[0m\u001b[0;34m(\u001b[0m\u001b[0;34m)\u001b[0m\u001b[0;34m)\u001b[0m\u001b[0;34m:\u001b[0m\u001b[0;34m\u001b[0m\u001b[0;34m\u001b[0m\u001b[0m\n\u001b[1;32m   3247\u001b[0m                     \u001b[0mself\u001b[0m\u001b[0;34m.\u001b[0m\u001b[0m_is_copy\u001b[0m \u001b[0;34m=\u001b[0m \u001b[0;32mNone\u001b[0m\u001b[0;34m\u001b[0m\u001b[0;34m\u001b[0m\u001b[0m\n",
            "\u001b[0;31mKeyboardInterrupt\u001b[0m: "
          ]
        }
      ]
    },
    {
      "cell_type": "code",
      "metadata": {
        "id": "s9lCzb38RbbG",
        "colab_type": "code",
        "outputId": "318f1c07-38d9-4f95-9a11-98aa64fd284f",
        "colab": {
          "base_uri": "https://localhost:8080/",
          "height": 326
        }
      },
      "source": [
        "plt.imshow(y[100,:].reshape(28,28), cmap='gray', interpolation='none')"
      ],
      "execution_count": 0,
      "outputs": [
        {
          "output_type": "error",
          "ename": "ValueError",
          "evalue": "ignored",
          "traceback": [
            "\u001b[0;31m---------------------------------------------------------------------------\u001b[0m",
            "\u001b[0;31mValueError\u001b[0m                                Traceback (most recent call last)",
            "\u001b[0;32m<ipython-input-57-ea245ddddcb2>\u001b[0m in \u001b[0;36m<module>\u001b[0;34m()\u001b[0m\n\u001b[0;32m----> 1\u001b[0;31m \u001b[0mplt\u001b[0m\u001b[0;34m.\u001b[0m\u001b[0mimshow\u001b[0m\u001b[0;34m(\u001b[0m\u001b[0my\u001b[0m\u001b[0;34m[\u001b[0m\u001b[0;36m100\u001b[0m\u001b[0;34m,\u001b[0m\u001b[0;34m:\u001b[0m\u001b[0;34m]\u001b[0m\u001b[0;34m.\u001b[0m\u001b[0mreshape\u001b[0m\u001b[0;34m(\u001b[0m\u001b[0;36m28\u001b[0m\u001b[0;34m,\u001b[0m\u001b[0;36m28\u001b[0m\u001b[0;34m)\u001b[0m\u001b[0;34m,\u001b[0m \u001b[0mcmap\u001b[0m\u001b[0;34m=\u001b[0m\u001b[0;34m'gray'\u001b[0m\u001b[0;34m,\u001b[0m \u001b[0minterpolation\u001b[0m\u001b[0;34m=\u001b[0m\u001b[0;34m'none'\u001b[0m\u001b[0;34m)\u001b[0m\u001b[0;34m\u001b[0m\u001b[0;34m\u001b[0m\u001b[0m\n\u001b[0m",
            "\u001b[0;32m/usr/local/lib/python3.6/dist-packages/pandas/core/series.py\u001b[0m in \u001b[0;36m__getitem__\u001b[0;34m(self, key)\u001b[0m\n\u001b[1;32m    909\u001b[0m             \u001b[0mkey\u001b[0m \u001b[0;34m=\u001b[0m \u001b[0mcheck_bool_indexer\u001b[0m\u001b[0;34m(\u001b[0m\u001b[0mself\u001b[0m\u001b[0;34m.\u001b[0m\u001b[0mindex\u001b[0m\u001b[0;34m,\u001b[0m \u001b[0mkey\u001b[0m\u001b[0;34m)\u001b[0m\u001b[0;34m\u001b[0m\u001b[0;34m\u001b[0m\u001b[0m\n\u001b[1;32m    910\u001b[0m \u001b[0;34m\u001b[0m\u001b[0m\n\u001b[0;32m--> 911\u001b[0;31m         \u001b[0;32mreturn\u001b[0m \u001b[0mself\u001b[0m\u001b[0;34m.\u001b[0m\u001b[0m_get_with\u001b[0m\u001b[0;34m(\u001b[0m\u001b[0mkey\u001b[0m\u001b[0;34m)\u001b[0m\u001b[0;34m\u001b[0m\u001b[0;34m\u001b[0m\u001b[0m\n\u001b[0m\u001b[1;32m    912\u001b[0m \u001b[0;34m\u001b[0m\u001b[0m\n\u001b[1;32m    913\u001b[0m     \u001b[0;32mdef\u001b[0m \u001b[0m_get_with\u001b[0m\u001b[0;34m(\u001b[0m\u001b[0mself\u001b[0m\u001b[0;34m,\u001b[0m \u001b[0mkey\u001b[0m\u001b[0;34m)\u001b[0m\u001b[0;34m:\u001b[0m\u001b[0;34m\u001b[0m\u001b[0;34m\u001b[0m\u001b[0m\n",
            "\u001b[0;32m/usr/local/lib/python3.6/dist-packages/pandas/core/series.py\u001b[0m in \u001b[0;36m_get_with\u001b[0;34m(self, key)\u001b[0m\n\u001b[1;32m    921\u001b[0m         \u001b[0;32melif\u001b[0m \u001b[0misinstance\u001b[0m\u001b[0;34m(\u001b[0m\u001b[0mkey\u001b[0m\u001b[0;34m,\u001b[0m \u001b[0mtuple\u001b[0m\u001b[0;34m)\u001b[0m\u001b[0;34m:\u001b[0m\u001b[0;34m\u001b[0m\u001b[0;34m\u001b[0m\u001b[0m\n\u001b[1;32m    922\u001b[0m             \u001b[0;32mtry\u001b[0m\u001b[0;34m:\u001b[0m\u001b[0;34m\u001b[0m\u001b[0;34m\u001b[0m\u001b[0m\n\u001b[0;32m--> 923\u001b[0;31m                 \u001b[0;32mreturn\u001b[0m \u001b[0mself\u001b[0m\u001b[0;34m.\u001b[0m\u001b[0m_get_values_tuple\u001b[0m\u001b[0;34m(\u001b[0m\u001b[0mkey\u001b[0m\u001b[0;34m)\u001b[0m\u001b[0;34m\u001b[0m\u001b[0;34m\u001b[0m\u001b[0m\n\u001b[0m\u001b[1;32m    924\u001b[0m             \u001b[0;32mexcept\u001b[0m \u001b[0mException\u001b[0m\u001b[0;34m:\u001b[0m\u001b[0;34m\u001b[0m\u001b[0;34m\u001b[0m\u001b[0m\n\u001b[1;32m    925\u001b[0m                 \u001b[0;32mif\u001b[0m \u001b[0mlen\u001b[0m\u001b[0;34m(\u001b[0m\u001b[0mkey\u001b[0m\u001b[0;34m)\u001b[0m \u001b[0;34m==\u001b[0m \u001b[0;36m1\u001b[0m\u001b[0;34m:\u001b[0m\u001b[0;34m\u001b[0m\u001b[0;34m\u001b[0m\u001b[0m\n",
            "\u001b[0;32m/usr/local/lib/python3.6/dist-packages/pandas/core/series.py\u001b[0m in \u001b[0;36m_get_values_tuple\u001b[0;34m(self, key)\u001b[0m\n\u001b[1;32m    966\u001b[0m \u001b[0;34m\u001b[0m\u001b[0m\n\u001b[1;32m    967\u001b[0m         \u001b[0;32mif\u001b[0m \u001b[0;32mnot\u001b[0m \u001b[0misinstance\u001b[0m\u001b[0;34m(\u001b[0m\u001b[0mself\u001b[0m\u001b[0;34m.\u001b[0m\u001b[0mindex\u001b[0m\u001b[0;34m,\u001b[0m \u001b[0mMultiIndex\u001b[0m\u001b[0;34m)\u001b[0m\u001b[0;34m:\u001b[0m\u001b[0;34m\u001b[0m\u001b[0;34m\u001b[0m\u001b[0m\n\u001b[0;32m--> 968\u001b[0;31m             \u001b[0;32mraise\u001b[0m \u001b[0mValueError\u001b[0m\u001b[0;34m(\u001b[0m\u001b[0;34m'Can only tuple-index with a MultiIndex'\u001b[0m\u001b[0;34m)\u001b[0m\u001b[0;34m\u001b[0m\u001b[0;34m\u001b[0m\u001b[0m\n\u001b[0m\u001b[1;32m    969\u001b[0m \u001b[0;34m\u001b[0m\u001b[0m\n\u001b[1;32m    970\u001b[0m         \u001b[0;31m# If key is contained, would have returned by now\u001b[0m\u001b[0;34m\u001b[0m\u001b[0;34m\u001b[0m\u001b[0;34m\u001b[0m\u001b[0m\n",
            "\u001b[0;31mValueError\u001b[0m: Can only tuple-index with a MultiIndex"
          ]
        }
      ]
    },
    {
      "cell_type": "code",
      "metadata": {
        "id": "iXHlcpxp8hDX",
        "colab_type": "code",
        "colab": {}
      },
      "source": [
        "X_train,X_val,y_train,y_val = train_test_split(X,y,test_size = 0.2,random_state = 0)\n",
        "\n",
        "X_test = np.array(test_data.iloc[:,1:])\n",
        "y_test= to_categorical(np.array(test_data.iloc[:,0]))\n"
      ],
      "execution_count": 0,
      "outputs": []
    },
    {
      "cell_type": "markdown",
      "metadata": {
        "id": "9G1kxeUANXe3",
        "colab_type": "text"
      },
      "source": [
        "After loading and splitting the data, preprocess them by reshaping them into the shape the network expects and scaling them so that all values are in the [0, 1] interval. Previously, for instance, the training data were stored in an array of shape (27455, 28, 28) of type uint8 with values in the [0, 255] interval. I transform it into a float32 array of shape (27455, 28 * 28) with values between 0 and 1"
      ]
    },
    {
      "cell_type": "code",
      "metadata": {
        "id": "LmwFPLs7LRLw",
        "colab_type": "code",
        "colab": {}
      },
      "source": [
        "img_rows , img_col =28,28\n",
        "input_shape = (img_rows,img_col,1)\n",
        "\n",
        "X_train = X_train.reshape(X_train.shape[0], img_rows,img_col,1)\n",
        "X_train = X_train.astype(\"float32\")\n",
        "X_train /= 255\n",
        "\n",
        "X_test = X_test.reshape(X_test.shape[0], img_rows,img_col,1)\n",
        "X_test = X_test.astype(\"float32\")\n",
        "X_test /= 255\n",
        "\n",
        "X_val = X_val.reshape(X_val.shape[0], img_rows,img_col,1)\n",
        "X_val = X_val.astype(\"float32\")\n",
        "X_val /= 255"
      ],
      "execution_count": 0,
      "outputs": []
    },
    {
      "cell_type": "markdown",
      "metadata": {
        "id": "EP_GhIn0N76w",
        "colab_type": "text"
      },
      "source": [
        "***Importing the layers of Keras.***\n",
        "\n",
        "To Accelerate the Training of Deep Neural Networks Batch Normalization is used.\n",
        "\n",
        "Using batch normalization makes the network more stable during training.This may require the use of much larger than normal learning rates, that in turn may further speed up the learning process.\n",
        "\n",
        "Batch normalization offers some regularization effect, reducing generalization error, perhaps no longer requiring the use of dropout for regularization. Hence removed the dropouts\n",
        "\n"
      ]
    },
    {
      "cell_type": "code",
      "metadata": {
        "id": "Phs1Lbia04QJ",
        "colab_type": "code",
        "outputId": "323b15e7-99b9-49b5-cf66-ed7c5351f1a1",
        "colab": {
          "base_uri": "https://localhost:8080/",
          "height": 316
        }
      },
      "source": [
        "import keras\n",
        "from keras.models import Sequential\n",
        "from keras.layers import Dense,Dropout,Flatten\n",
        "from keras.layers import Conv2D,MaxPooling2D\n",
        "from keras import regularizers\n",
        "from keras.layers.normalization import BatchNormalization\n",
        "\n",
        "conv1 = Sequential()\n",
        "conv1.add(Conv2D(32, kernel_size=(3,3),activation = 'relu', input_shape= input_shape ))\n",
        "conv1.add(BatchNormalization())\n",
        "\n",
        "conv1.add(Conv2D(32, kernel_size=(3,3),activation = 'relu' ))\n",
        "conv1.add(BatchNormalization())\n",
        "conv1.add(MaxPooling2D(pool_size = (2,2)))\n",
        "#conv1.add(Dropout(0.2))\n",
        "\n",
        "conv1.add(Conv2D(64, kernel_size=(3,3),activation = 'relu' ))\n",
        "conv1.add(BatchNormalization())\n",
        "conv1.add(MaxPooling2D(pool_size = (2,2)))\n",
        "#conv1.add(Dropout(0.2))\n",
        "\n",
        "conv1.add(Conv2D(128, kernel_size=(3,3),activation = 'relu' ))\n",
        "conv1.add(MaxPooling2D(pool_size = (2,2)))\n",
        "\n",
        "conv1.add(Flatten())\n",
        "conv1.add(Dense(128,activation = 'relu'))\n",
        "conv1.add(Dense(25, activation = 'softmax'))\n"
      ],
      "execution_count": 0,
      "outputs": [
        {
          "output_type": "stream",
          "text": [
            "WARNING: Logging before flag parsing goes to stderr.\n",
            "W0706 18:21:02.780138 140480909330304 deprecation_wrapper.py:119] From /usr/local/lib/python3.6/dist-packages/keras/backend/tensorflow_backend.py:74: The name tf.get_default_graph is deprecated. Please use tf.compat.v1.get_default_graph instead.\n",
            "\n",
            "W0706 18:21:02.802352 140480909330304 deprecation_wrapper.py:119] From /usr/local/lib/python3.6/dist-packages/keras/backend/tensorflow_backend.py:517: The name tf.placeholder is deprecated. Please use tf.compat.v1.placeholder instead.\n",
            "\n",
            "W0706 18:21:02.806515 140480909330304 deprecation_wrapper.py:119] From /usr/local/lib/python3.6/dist-packages/keras/backend/tensorflow_backend.py:4138: The name tf.random_uniform is deprecated. Please use tf.random.uniform instead.\n",
            "\n",
            "W0706 18:21:02.840367 140480909330304 deprecation_wrapper.py:119] From /usr/local/lib/python3.6/dist-packages/keras/backend/tensorflow_backend.py:174: The name tf.get_default_session is deprecated. Please use tf.compat.v1.get_default_session instead.\n",
            "\n",
            "W0706 18:21:02.841589 140480909330304 deprecation_wrapper.py:119] From /usr/local/lib/python3.6/dist-packages/keras/backend/tensorflow_backend.py:181: The name tf.ConfigProto is deprecated. Please use tf.compat.v1.ConfigProto instead.\n",
            "\n",
            "W0706 18:21:02.879827 140480909330304 deprecation_wrapper.py:119] From /usr/local/lib/python3.6/dist-packages/keras/backend/tensorflow_backend.py:1834: The name tf.nn.fused_batch_norm is deprecated. Please use tf.compat.v1.nn.fused_batch_norm instead.\n",
            "\n",
            "W0706 18:21:03.047876 140480909330304 deprecation_wrapper.py:119] From /usr/local/lib/python3.6/dist-packages/keras/backend/tensorflow_backend.py:3976: The name tf.nn.max_pool is deprecated. Please use tf.nn.max_pool2d instead.\n",
            "\n"
          ],
          "name": "stderr"
        }
      ]
    },
    {
      "cell_type": "markdown",
      "metadata": {
        "id": "G9YPdp9yPefL",
        "colab_type": "text"
      },
      "source": [
        "**Summary of the Model to be Trained**\n",
        "\n",
        "\n",
        "\n",
        "When compiling the model, I choose categorical_crossentropy as the loss function (which is relevent for multiclass, single-label classification problem) and Adam optimizer.\n",
        "\n",
        " *   The cross-entropy loss calculates the error rate between the predicted value and the original value. Categorical is used because there are 25 classes to predict from. If there were 2 classes, I would have used binary_crossentropy.\n",
        " *    The Adam optimizer is an improvement over SGD(Stochastic Gradient Descent). The optimizer is responsible for updating the weights of the neurons via backpropagation. It calculates the derivative of the loss function with respect to each weight and subtracts it from the weight. \n",
        "\n",
        "\n",
        "\n",
        "\n",
        "\n",
        "\n",
        "\n"
      ]
    },
    {
      "cell_type": "code",
      "metadata": {
        "id": "-3BFtPl62k5B",
        "colab_type": "code",
        "outputId": "1bdd8d41-991c-4578-d49f-06c0bc40b475",
        "colab": {
          "base_uri": "https://localhost:8080/",
          "height": 687
        }
      },
      "source": [
        "conv1.compile(loss = keras.losses.categorical_crossentropy,\n",
        "             optimizer = keras.optimizers.Adam(),\n",
        "             metrics = [\"accuracy\"])\n",
        "conv1.summary()"
      ],
      "execution_count": 0,
      "outputs": [
        {
          "output_type": "stream",
          "text": [
            "W0706 18:21:03.233953 140480909330304 deprecation_wrapper.py:119] From /usr/local/lib/python3.6/dist-packages/keras/optimizers.py:790: The name tf.train.Optimizer is deprecated. Please use tf.compat.v1.train.Optimizer instead.\n",
            "\n"
          ],
          "name": "stderr"
        },
        {
          "output_type": "stream",
          "text": [
            "_________________________________________________________________\n",
            "Layer (type)                 Output Shape              Param #   \n",
            "=================================================================\n",
            "conv2d_1 (Conv2D)            (None, 26, 26, 32)        320       \n",
            "_________________________________________________________________\n",
            "batch_normalization_1 (Batch (None, 26, 26, 32)        128       \n",
            "_________________________________________________________________\n",
            "conv2d_2 (Conv2D)            (None, 24, 24, 32)        9248      \n",
            "_________________________________________________________________\n",
            "batch_normalization_2 (Batch (None, 24, 24, 32)        128       \n",
            "_________________________________________________________________\n",
            "max_pooling2d_1 (MaxPooling2 (None, 12, 12, 32)        0         \n",
            "_________________________________________________________________\n",
            "conv2d_3 (Conv2D)            (None, 10, 10, 64)        18496     \n",
            "_________________________________________________________________\n",
            "batch_normalization_3 (Batch (None, 10, 10, 64)        256       \n",
            "_________________________________________________________________\n",
            "max_pooling2d_2 (MaxPooling2 (None, 5, 5, 64)          0         \n",
            "_________________________________________________________________\n",
            "conv2d_4 (Conv2D)            (None, 3, 3, 128)         73856     \n",
            "_________________________________________________________________\n",
            "max_pooling2d_3 (MaxPooling2 (None, 1, 1, 128)         0         \n",
            "_________________________________________________________________\n",
            "flatten_1 (Flatten)          (None, 128)               0         \n",
            "_________________________________________________________________\n",
            "dense_1 (Dense)              (None, 128)               16512     \n",
            "_________________________________________________________________\n",
            "dense_2 (Dense)              (None, 25)                3225      \n",
            "=================================================================\n",
            "Total params: 122,169\n",
            "Trainable params: 121,913\n",
            "Non-trainable params: 256\n",
            "_________________________________________________________________\n"
          ],
          "name": "stdout"
        }
      ]
    },
    {
      "cell_type": "markdown",
      "metadata": {
        "id": "K6_kzrLNP0Ov",
        "colab_type": "text"
      },
      "source": [
        "*Training the data for 15 epochs involving 21964 training samples and 5491 validation samples*"
      ]
    },
    {
      "cell_type": "code",
      "metadata": {
        "id": "O0sEUNYJ4452",
        "colab_type": "code",
        "outputId": "66d9be48-7469-4ab6-9c0b-8489d1c2a469",
        "colab": {
          "base_uri": "https://localhost:8080/",
          "height": 668
        }
      },
      "source": [
        "history1 = conv1.fit(X_train,y_train,\n",
        "                    batch_size = 128,\n",
        "                    epochs = 15,\n",
        "                    verbose = 1,\n",
        "                    validation_data = (X_val,y_val))"
      ],
      "execution_count": 0,
      "outputs": [
        {
          "output_type": "stream",
          "text": [
            "W0706 18:21:03.374479 140480909330304 deprecation.py:323] From /usr/local/lib/python3.6/dist-packages/tensorflow/python/ops/math_grad.py:1250: add_dispatch_support.<locals>.wrapper (from tensorflow.python.ops.array_ops) is deprecated and will be removed in a future version.\n",
            "Instructions for updating:\n",
            "Use tf.where in 2.0, which has the same broadcast rule as np.where\n"
          ],
          "name": "stderr"
        },
        {
          "output_type": "stream",
          "text": [
            "Train on 21964 samples, validate on 5491 samples\n",
            "Epoch 1/15\n",
            "21964/21964 [==============================] - 75s 3ms/step - loss: 0.5877 - acc: 0.8449 - val_loss: 0.0435 - val_acc: 0.9989\n",
            "Epoch 2/15\n",
            "21964/21964 [==============================] - 74s 3ms/step - loss: 0.0047 - acc: 1.0000 - val_loss: 0.0050 - val_acc: 1.0000\n",
            "Epoch 3/15\n",
            "21964/21964 [==============================] - 74s 3ms/step - loss: 0.0015 - acc: 1.0000 - val_loss: 0.0017 - val_acc: 1.0000\n",
            "Epoch 4/15\n",
            "21964/21964 [==============================] - 74s 3ms/step - loss: 7.5627e-04 - acc: 1.0000 - val_loss: 9.9486e-04 - val_acc: 1.0000\n",
            "Epoch 5/15\n",
            "21964/21964 [==============================] - 74s 3ms/step - loss: 4.5797e-04 - acc: 1.0000 - val_loss: 6.1103e-04 - val_acc: 1.0000\n",
            "Epoch 6/15\n",
            "21964/21964 [==============================] - 75s 3ms/step - loss: 3.0489e-04 - acc: 1.0000 - val_loss: 4.2133e-04 - val_acc: 1.0000\n",
            "Epoch 7/15\n",
            "21964/21964 [==============================] - 74s 3ms/step - loss: 2.2165e-04 - acc: 1.0000 - val_loss: 3.3878e-04 - val_acc: 1.0000\n",
            "Epoch 8/15\n",
            "21964/21964 [==============================] - 75s 3ms/step - loss: 1.6349e-04 - acc: 1.0000 - val_loss: 2.6106e-04 - val_acc: 1.0000\n",
            "Epoch 9/15\n",
            "21964/21964 [==============================] - 74s 3ms/step - loss: 1.2476e-04 - acc: 1.0000 - val_loss: 1.9703e-04 - val_acc: 1.0000\n",
            "Epoch 10/15\n",
            "21964/21964 [==============================] - 74s 3ms/step - loss: 9.9293e-05 - acc: 1.0000 - val_loss: 1.6342e-04 - val_acc: 1.0000\n",
            "Epoch 11/15\n",
            "21964/21964 [==============================] - 74s 3ms/step - loss: 8.0054e-05 - acc: 1.0000 - val_loss: 1.4159e-04 - val_acc: 1.0000\n",
            "Epoch 12/15\n",
            "21964/21964 [==============================] - 74s 3ms/step - loss: 6.4769e-05 - acc: 1.0000 - val_loss: 1.2288e-04 - val_acc: 1.0000\n",
            "Epoch 13/15\n",
            "21964/21964 [==============================] - 74s 3ms/step - loss: 5.3872e-05 - acc: 1.0000 - val_loss: 1.1999e-04 - val_acc: 1.0000\n",
            "Epoch 14/15\n",
            "21964/21964 [==============================] - 74s 3ms/step - loss: 4.5356e-05 - acc: 1.0000 - val_loss: 9.0725e-05 - val_acc: 1.0000\n",
            "Epoch 15/15\n",
            "21964/21964 [==============================] - 74s 3ms/step - loss: 3.8158e-05 - acc: 1.0000 - val_loss: 8.0274e-05 - val_acc: 1.0000\n"
          ],
          "name": "stdout"
        }
      ]
    },
    {
      "cell_type": "markdown",
      "metadata": {
        "id": "wuAJpuXQQgRk",
        "colab_type": "text"
      },
      "source": [
        "*Viewing the accuracy Score*"
      ]
    },
    {
      "cell_type": "code",
      "metadata": {
        "id": "cbvkT0fo-Ibl",
        "colab_type": "code",
        "outputId": "498864e7-ff37-485e-a28d-1290ebf2d55a",
        "colab": {
          "base_uri": "https://localhost:8080/",
          "height": 54
        }
      },
      "source": [
        "score1 = conv1.evaluate(X_test,y_test,\n",
        "                       verbose =0)\n",
        "print(\"test loss: \",score1[0])\n",
        "print(\"test_accuracy : \",score1[1])"
      ],
      "execution_count": 0,
      "outputs": [
        {
          "output_type": "stream",
          "text": [
            "test loss:  0.17451627972825107\n",
            "test_accuracy :  0.9517568321249302\n"
          ],
          "name": "stdout"
        }
      ]
    },
    {
      "cell_type": "code",
      "metadata": {
        "id": "w03pcXkz-zaO",
        "colab_type": "code",
        "outputId": "5fa5266f-da66-42ac-ca0d-7f08d3369450",
        "colab": {
          "base_uri": "https://localhost:8080/",
          "height": 36
        }
      },
      "source": [
        "import matplotlib.pyplot as plt\n",
        "%matplotlib inline\n",
        "\n",
        "accuracy = history1.history[\"acc\"]\n",
        "val_acc = history1.history[\"val_acc\"]\n",
        "loss = history1.history[\"loss\"]\n",
        "val_loss = history1.history[\"val_loss\"]\n",
        "epochs = range(len(accuracy))\n",
        "print(len(accuracy))"
      ],
      "execution_count": 0,
      "outputs": [
        {
          "output_type": "stream",
          "text": [
            "15\n"
          ],
          "name": "stdout"
        }
      ]
    },
    {
      "cell_type": "markdown",
      "metadata": {
        "id": "vaXvlU_3Qrrb",
        "colab_type": "text"
      },
      "source": [
        "*`Plotting the  data to view the Training and Validation accuracy and losses`*"
      ]
    },
    {
      "cell_type": "code",
      "metadata": {
        "id": "upCDz4rJIDMA",
        "colab_type": "code",
        "outputId": "aa581f36-4e75-4e60-8d88-cf08bc9c5ad1",
        "colab": {
          "base_uri": "https://localhost:8080/",
          "height": 545
        }
      },
      "source": [
        "plt.plot(epochs,accuracy,'bo',label = 'Training accuracy')\n",
        "plt.plot(epochs,accuracy,'b',label = 'Validation accuracy')\n",
        "plt.title(\"training and validation accuracy\")\n",
        "plt.legend()\n",
        "plt.show()\n",
        "\n",
        "plt.plot(epochs, loss, 'bo', label='Training loss')\n",
        "plt.plot(epochs, val_loss, 'b', label='Validation loss')\n",
        "plt.title('Training and validation loss')\n",
        "plt.legend()\n",
        "plt.show()"
      ],
      "execution_count": 0,
      "outputs": [
        {
          "output_type": "display_data",
          "data": {
            "image/png": "[encoded data removed]",
            "text/plain": [
              "<Figure size 432x288 with 1 Axes>"
            ]
          },
          "metadata": {
            "tags": []
          }
        },
        {
          "output_type": "display_data",
          "data": {
            "image/png": "[encoded data removed]",
            "text/plain": [
              "<Figure size 432x288 with 1 Axes>"
            ]
          },
          "metadata": {
            "tags": []
          }
        }
      ]
    },
    {
      "cell_type": "code",
      "metadata": {
        "id": "ClJr_zcuIOJ4",
        "colab_type": "code",
        "outputId": "a7af8a43-4d7f-4977-bd71-8d49de12c620",
        "colab": {
          "base_uri": "https://localhost:8080/",
          "height": 74
        }
      },
      "source": [
        "predicted_classes = conv1.predict_classes(X_test)\n",
        "\n",
        "y_true = test_data.iloc[:, 0]\n",
        "correct = np.nonzero(predicted_classes==y_true)[0]\n",
        "incorrect = np.nonzero(predicted_classes!=y_true)[0]"
      ],
      "execution_count": 0,
      "outputs": [
        {
          "output_type": "stream",
          "text": [
            "/usr/local/lib/python3.6/dist-packages/numpy/core/fromnumeric.py:56: FutureWarning: Series.nonzero() is deprecated and will be removed in a future version.Use Series.to_numpy().nonzero() instead\n",
            "  return getattr(obj, method)(*args, **kwds)\n"
          ],
          "name": "stderr"
        }
      ]
    },
    {
      "cell_type": "markdown",
      "metadata": {
        "id": "HRKshK1qSm_3",
        "colab_type": "text"
      },
      "source": [
        "*`Classification_report library helps in producing the range of prediction occured on each labels. f1 score will give us the prediction rate on each labels`*"
      ]
    },
    {
      "cell_type": "code",
      "metadata": {
        "id": "o6b0OZNmIfPz",
        "colab_type": "code",
        "outputId": "b81eb28a-84b9-497f-a984-1cbdd6a9e02c",
        "colab": {
          "base_uri": "https://localhost:8080/",
          "height": 593
        }
      },
      "source": [
        "from sklearn.metrics import classification_report\n",
        "target_names = [\"Class {}\".format(i) for i in range(24)]\n",
        "print(classification_report(y_true, predicted_classes, target_names=target_names))"
      ],
      "execution_count": 0,
      "outputs": [
        {
          "output_type": "stream",
          "text": [
            "              precision    recall  f1-score   support\n",
            "\n",
            "     Class 0       1.00      1.00      1.00       331\n",
            "     Class 1       1.00      1.00      1.00       432\n",
            "     Class 2       1.00      1.00      1.00       310\n",
            "     Class 3       0.94      1.00      0.97       245\n",
            "     Class 4       0.95      0.93      0.94       498\n",
            "     Class 5       1.00      1.00      1.00       247\n",
            "     Class 6       0.94      0.98      0.96       348\n",
            "     Class 7       0.99      0.95      0.97       436\n",
            "     Class 8       1.00      0.95      0.98       288\n",
            "     Class 9       1.00      0.96      0.98       331\n",
            "    Class 10       1.00      1.00      1.00       209\n",
            "    Class 11       0.80      0.92      0.86       394\n",
            "    Class 12       0.94      0.77      0.85       291\n",
            "    Class 13       1.00      1.00      1.00       246\n",
            "    Class 14       0.92      1.00      0.96       347\n",
            "    Class 15       0.99      1.00      1.00       164\n",
            "    Class 16       0.80      0.89      0.84       144\n",
            "    Class 17       0.95      1.00      0.97       246\n",
            "    Class 18       0.94      0.71      0.81       248\n",
            "    Class 19       0.87      1.00      0.93       266\n",
            "    Class 20       0.95      0.83      0.89       346\n",
            "    Class 21       1.00      1.00      1.00       206\n",
            "    Class 22       0.91      0.97      0.93       267\n",
            "    Class 23       0.97      1.00      0.98       332\n",
            "\n",
            "    accuracy                           0.95      7172\n",
            "   macro avg       0.95      0.95      0.95      7172\n",
            "weighted avg       0.95      0.95      0.95      7172\n",
            "\n"
          ],
          "name": "stdout"
        }
      ]
    },
    {
      "cell_type": "markdown",
      "metadata": {
        "id": "nsAgX4F5TrIN",
        "colab_type": "text"
      },
      "source": [
        "***Plotting the correctly predicted images***"
      ]
    },
    {
      "cell_type": "code",
      "metadata": {
        "id": "WW3aUZJYIu_J",
        "colab_type": "code",
        "outputId": "c16117df-61eb-4aac-e941-7fc62eeef8cb",
        "colab": {
          "base_uri": "https://localhost:8080/",
          "height": 297
        }
      },
      "source": [
        "for i, correct in enumerate(correct[:9]):\n",
        "    plt.subplot(3,3,i+1)\n",
        "    plt.imshow(X_test[correct].reshape(28,28), cmap='gray', interpolation='none')\n",
        "    plt.title(\"Predicted {}, Class {}\".format(predicted_classes[correct], y_true[correct]))\n",
        "    plt.tight_layout()\n",
        "    "
      ],
      "execution_count": 0,
      "outputs": [
        {
          "output_type": "display_data",
          "data": {
            "image/png": "[encoded data removed]",
            "text/plain": [
              "<Figure size 432x288 with 9 Axes>"
            ]
          },
          "metadata": {
            "tags": []
          }
        }
      ]
    },
    {
      "cell_type": "markdown",
      "metadata": {
        "id": "gilPgjIVUFfT",
        "colab_type": "text"
      },
      "source": [
        "***Plotting the correctly predicted images***"
      ]
    },
    {
      "cell_type": "code",
      "metadata": {
        "id": "jml4eUEsI67q",
        "colab_type": "code",
        "outputId": "3b28ace1-155d-463c-9638-e307c09ceb89",
        "colab": {
          "base_uri": "https://localhost:8080/",
          "height": 297
        }
      },
      "source": [
        "for i, incorrect in enumerate(incorrect[0:9]):\n",
        "    plt.subplot(3,3,i+1)\n",
        "    plt.imshow(X_test[incorrect].reshape(28,28), cmap='gray', interpolation='none')\n",
        "    plt.title(\"Predicted {}, Class {}\".format(predicted_classes[incorrect], y_true[incorrect]))\n",
        "    plt.tight_layout()"
      ],
      "execution_count": 0,
      "outputs": [
        {
          "output_type": "display_data",
          "data": {
            "image/png": "[encoded data removed]",
            "text/plain": [
              "<Figure size 432x288 with 9 Axes>"
            ]
          },
          "metadata": {
            "tags": []
          }
        }
      ]
    },
    {
      "cell_type": "code",
      "metadata": {
        "id": "pqijSXFHJY_n",
        "colab_type": "code",
        "colab": {}
      },
      "source": [
        ""
      ],
      "execution_count": 0,
      "outputs": []
    }
  ]
}